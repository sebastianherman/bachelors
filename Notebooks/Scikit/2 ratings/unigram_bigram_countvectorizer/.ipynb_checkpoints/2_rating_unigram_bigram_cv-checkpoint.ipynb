{
 "cells": [
  {
   "cell_type": "code",
   "execution_count": 1,
   "metadata": {},
   "outputs": [],
   "source": [
    "import pandas as pd\n",
    "from sklearn.feature_extraction.text import CountVectorizer\n",
    "from sklearn.model_selection import train_test_split\n",
    "\n",
    "from sklearn.metrics import classification_report\n",
    "from sklearn.metrics import confusion_matrix, accuracy_score, roc_auc_score, roc_curve\n",
    "\n",
    "from sklearn import metrics\n",
    "\n",
    "import contractions\n",
    "\n",
    "import scikitplot as skplt\n",
    "import matplotlib.pyplot as plt"
   ]
  },
  {
   "cell_type": "code",
   "execution_count": 2,
   "metadata": {},
   "outputs": [],
   "source": [
    "yelp_data_5k = pd.read_csv(r\"C:\\Users\\sebas\\Documents\\School\\bachelor-final\\Dataset\\PROCESSED_RESTAURANT_REVIEWS_5k.csv\")"
   ]
  },
  {
   "cell_type": "code",
   "execution_count": 3,
   "metadata": {},
   "outputs": [
    {
     "data": {
      "text/html": [
       "<div>\n",
       "<style scoped>\n",
       "    .dataframe tbody tr th:only-of-type {\n",
       "        vertical-align: middle;\n",
       "    }\n",
       "\n",
       "    .dataframe tbody tr th {\n",
       "        vertical-align: top;\n",
       "    }\n",
       "\n",
       "    .dataframe thead th {\n",
       "        text-align: right;\n",
       "    }\n",
       "</style>\n",
       "<table border=\"1\" class=\"dataframe\">\n",
       "  <thead>\n",
       "    <tr style=\"text-align: right;\">\n",
       "      <th></th>\n",
       "      <th>Unnamed: 0</th>\n",
       "      <th>reviewContent</th>\n",
       "      <th>usefulCount</th>\n",
       "      <th>coolCount</th>\n",
       "      <th>funnyCount</th>\n",
       "      <th>rating</th>\n",
       "      <th>restaurantID</th>\n",
       "      <th>reviewCleanWithStopwords</th>\n",
       "      <th>reviewCleanNoStopwords</th>\n",
       "      <th>reviewCleanPorterStemmer</th>\n",
       "      <th>reviewCleanSnowballStemmer</th>\n",
       "      <th>reviewCleanLemmatized</th>\n",
       "      <th>reviewCleanLancaster</th>\n",
       "    </tr>\n",
       "  </thead>\n",
       "  <tbody>\n",
       "    <tr>\n",
       "      <th>0</th>\n",
       "      <td>0</td>\n",
       "      <td>\"'Check, Please.\" The bartender was unable to ...</td>\n",
       "      <td>18</td>\n",
       "      <td>11</td>\n",
       "      <td>25</td>\n",
       "      <td>1</td>\n",
       "      <td>VZHyAmdFDreQqL0BT-zdoA</td>\n",
       "      <td>check please the bartender was unable to recom...</td>\n",
       "      <td>check please bartender unable recommend beer t...</td>\n",
       "      <td>check pleas bartend unabl recommend beer tap t...</td>\n",
       "      <td>check pleas bartend unabl recommend beer tap t...</td>\n",
       "      <td>check please bartender unable recommend beer t...</td>\n",
       "      <td>check pleas bartend un recommend beer tap tri ...</td>\n",
       "    </tr>\n",
       "    <tr>\n",
       "      <th>1</th>\n",
       "      <td>1</td>\n",
       "      <td>\"2 stars for disappointing food, one star for ...</td>\n",
       "      <td>14</td>\n",
       "      <td>10</td>\n",
       "      <td>7</td>\n",
       "      <td>3</td>\n",
       "      <td>tFcmrGLZNEymSnijoTPmqw</td>\n",
       "      <td>stars for disappointing food one star for grea...</td>\n",
       "      <td>stars disappointing food one star great servic...</td>\n",
       "      <td>star disappoint food one star great servic rea...</td>\n",
       "      <td>star disappoint food one star great servic rea...</td>\n",
       "      <td>star disappoint food one star great service re...</td>\n",
       "      <td>star disappoint food on star gre serv read iai...</td>\n",
       "    </tr>\n",
       "    <tr>\n",
       "      <th>2</th>\n",
       "      <td>2</td>\n",
       "      <td>\"A Divine Dialogue\" God: \"Britton. Times up. T...</td>\n",
       "      <td>14</td>\n",
       "      <td>16</td>\n",
       "      <td>23</td>\n",
       "      <td>5</td>\n",
       "      <td>INvIaBFnAvGxzTXFWHzGvA</td>\n",
       "      <td>divine dialogue god britton times up the world...</td>\n",
       "      <td>divine dialogue god britton times world going ...</td>\n",
       "      <td>divin dialogu god britton time world go end to...</td>\n",
       "      <td>divin dialogu god britton time world go end to...</td>\n",
       "      <td>divine dialogue god britton time world go end ...</td>\n",
       "      <td>divin dialog god britton tim world going end t...</td>\n",
       "    </tr>\n",
       "    <tr>\n",
       "      <th>3</th>\n",
       "      <td>3</td>\n",
       "      <td>\"A Place To Go When You Have Time\" It was a mi...</td>\n",
       "      <td>13</td>\n",
       "      <td>10</td>\n",
       "      <td>10</td>\n",
       "      <td>5</td>\n",
       "      <td>FySId5SjNhkrtPA5qktdxg</td>\n",
       "      <td>place to go when you have time it was misty br...</td>\n",
       "      <td>place go time misty breezy summer night friend...</td>\n",
       "      <td>place go time misti breezi summer night friend...</td>\n",
       "      <td>place go time misti breezi summer night friend...</td>\n",
       "      <td>place go time misty breezy summer night friend...</td>\n",
       "      <td>plac go tim misty breezy sum night friend jere...</td>\n",
       "    </tr>\n",
       "    <tr>\n",
       "      <th>4</th>\n",
       "      <td>4</td>\n",
       "      <td>\"A Thaiphoon of Flavor\" My First: I never enli...</td>\n",
       "      <td>27</td>\n",
       "      <td>22</td>\n",
       "      <td>28</td>\n",
       "      <td>5</td>\n",
       "      <td>RgeMUiZncTs-VSHQLm0wNg</td>\n",
       "      <td>thaiphoon of flavor my first never enlisted in...</td>\n",
       "      <td>thaiphoon flavor first never enlisted air forc...</td>\n",
       "      <td>thaiphoon flavor first never enlist air forc a...</td>\n",
       "      <td>thaiphoon flavor first never enlist air forc a...</td>\n",
       "      <td>thaiphoon flavor first never enlist air force ...</td>\n",
       "      <td>thaiphoon flav first nev enl air forc allow jo...</td>\n",
       "    </tr>\n",
       "  </tbody>\n",
       "</table>\n",
       "</div>"
      ],
      "text/plain": [
       "   Unnamed: 0                                      reviewContent  usefulCount  \\\n",
       "0           0  \"'Check, Please.\" The bartender was unable to ...           18   \n",
       "1           1  \"2 stars for disappointing food, one star for ...           14   \n",
       "2           2  \"A Divine Dialogue\" God: \"Britton. Times up. T...           14   \n",
       "3           3  \"A Place To Go When You Have Time\" It was a mi...           13   \n",
       "4           4  \"A Thaiphoon of Flavor\" My First: I never enli...           27   \n",
       "\n",
       "   coolCount  funnyCount  rating            restaurantID  \\\n",
       "0         11          25       1  VZHyAmdFDreQqL0BT-zdoA   \n",
       "1         10           7       3  tFcmrGLZNEymSnijoTPmqw   \n",
       "2         16          23       5  INvIaBFnAvGxzTXFWHzGvA   \n",
       "3         10          10       5  FySId5SjNhkrtPA5qktdxg   \n",
       "4         22          28       5  RgeMUiZncTs-VSHQLm0wNg   \n",
       "\n",
       "                            reviewCleanWithStopwords  \\\n",
       "0  check please the bartender was unable to recom...   \n",
       "1  stars for disappointing food one star for grea...   \n",
       "2  divine dialogue god britton times up the world...   \n",
       "3  place to go when you have time it was misty br...   \n",
       "4  thaiphoon of flavor my first never enlisted in...   \n",
       "\n",
       "                              reviewCleanNoStopwords  \\\n",
       "0  check please bartender unable recommend beer t...   \n",
       "1  stars disappointing food one star great servic...   \n",
       "2  divine dialogue god britton times world going ...   \n",
       "3  place go time misty breezy summer night friend...   \n",
       "4  thaiphoon flavor first never enlisted air forc...   \n",
       "\n",
       "                            reviewCleanPorterStemmer  \\\n",
       "0  check pleas bartend unabl recommend beer tap t...   \n",
       "1  star disappoint food one star great servic rea...   \n",
       "2  divin dialogu god britton time world go end to...   \n",
       "3  place go time misti breezi summer night friend...   \n",
       "4  thaiphoon flavor first never enlist air forc a...   \n",
       "\n",
       "                          reviewCleanSnowballStemmer  \\\n",
       "0  check pleas bartend unabl recommend beer tap t...   \n",
       "1  star disappoint food one star great servic rea...   \n",
       "2  divin dialogu god britton time world go end to...   \n",
       "3  place go time misti breezi summer night friend...   \n",
       "4  thaiphoon flavor first never enlist air forc a...   \n",
       "\n",
       "                               reviewCleanLemmatized  \\\n",
       "0  check please bartender unable recommend beer t...   \n",
       "1  star disappoint food one star great service re...   \n",
       "2  divine dialogue god britton time world go end ...   \n",
       "3  place go time misty breezy summer night friend...   \n",
       "4  thaiphoon flavor first never enlist air force ...   \n",
       "\n",
       "                                reviewCleanLancaster  \n",
       "0  check pleas bartend un recommend beer tap tri ...  \n",
       "1  star disappoint food on star gre serv read iai...  \n",
       "2  divin dialog god britton tim world going end t...  \n",
       "3  plac go tim misty breezy sum night friend jere...  \n",
       "4  thaiphoon flav first nev enl air forc allow jo...  "
      ]
     },
     "execution_count": 3,
     "metadata": {},
     "output_type": "execute_result"
    }
   ],
   "source": [
    "yelp_data_5k.head()"
   ]
  },
  {
   "cell_type": "code",
   "execution_count": 4,
   "metadata": {},
   "outputs": [
    {
     "data": {
      "text/plain": [
       "2    1250\n",
       "5    1179\n",
       "1    1159\n",
       "3    1130\n",
       "4    1051\n",
       "Name: rating, dtype: int64"
      ]
     },
     "execution_count": 4,
     "metadata": {},
     "output_type": "execute_result"
    }
   ],
   "source": [
    "yelp_data_5k.rating.value_counts()"
   ]
  },
  {
   "cell_type": "code",
   "execution_count": 5,
   "metadata": {},
   "outputs": [
    {
     "data": {
      "text/plain": [
       "False"
      ]
     },
     "execution_count": 5,
     "metadata": {},
     "output_type": "execute_result"
    }
   ],
   "source": [
    "yelp_data_5k.isnull().values.any()"
   ]
  },
  {
   "cell_type": "markdown",
   "metadata": {},
   "source": [
    "# Remove 3 stars, transform 1,2 to 0 and 4,5 to one"
   ]
  },
  {
   "cell_type": "code",
   "execution_count": 6,
   "metadata": {},
   "outputs": [],
   "source": [
    "# Get names of indexes for which column rating has value 2\n",
    "indexNamesRating3 = yelp_data_5k[ yelp_data_5k['rating'] == 3 ].index\n",
    " \n",
    "# Delete these row indexes from dataFrame\n",
    "yelp_data_5k.drop(indexNamesRating3, inplace=True)"
   ]
  },
  {
   "cell_type": "code",
   "execution_count": 7,
   "metadata": {},
   "outputs": [
    {
     "data": {
      "text/plain": [
       "2    1250\n",
       "5    1179\n",
       "1    1159\n",
       "4    1051\n",
       "Name: rating, dtype: int64"
      ]
     },
     "execution_count": 7,
     "metadata": {},
     "output_type": "execute_result"
    }
   ],
   "source": [
    "yelp_data_5k.rating.value_counts()"
   ]
  },
  {
   "cell_type": "code",
   "execution_count": 8,
   "metadata": {},
   "outputs": [],
   "source": [
    "# transform 1 and 2 stars to rating 0 and 4 and 5 stars to rating 1\n",
    "yelp_data_5k['rating'] = yelp_data_5k['rating'].apply(lambda x: 1 if x>3 else 0)"
   ]
  },
  {
   "cell_type": "code",
   "execution_count": 9,
   "metadata": {},
   "outputs": [
    {
     "data": {
      "text/plain": [
       "0    2409\n",
       "1    2230\n",
       "Name: rating, dtype: int64"
      ]
     },
     "execution_count": 9,
     "metadata": {},
     "output_type": "execute_result"
    }
   ],
   "source": [
    "yelp_data_5k.rating.value_counts()"
   ]
  },
  {
   "cell_type": "markdown",
   "metadata": {},
   "source": [
    "# Allocating each text with its specific cleaning method to a variable"
   ]
  },
  {
   "cell_type": "code",
   "execution_count": 10,
   "metadata": {},
   "outputs": [],
   "source": [
    "x_cleanWithStopwords = yelp_data_5k[\"reviewCleanWithStopwords\"]\n",
    "x_cleanNoStopwords = yelp_data_5k[\"reviewCleanNoStopwords\"]\n",
    "x_porterStemmer = yelp_data_5k[\"reviewCleanPorterStemmer\"]\n",
    "x_snowballStemmer = yelp_data_5k[\"reviewCleanSnowballStemmer\"]\n",
    "x_lemmatized = yelp_data_5k[\"reviewCleanLemmatized\"]\n",
    "x_lancaster = yelp_data_5k[\"reviewCleanLancaster\"]"
   ]
  },
  {
   "cell_type": "markdown",
   "metadata": {},
   "source": [
    "# Vectorisation"
   ]
  },
  {
   "cell_type": "code",
   "execution_count": 11,
   "metadata": {},
   "outputs": [],
   "source": [
    "cv = CountVectorizer(ngram_range=(1,2), min_df=5).fit(x_cleanWithStopwords)\n",
    "x_cleanWithStopwords = cv.transform(x_cleanWithStopwords)\n",
    "\n",
    "cv = CountVectorizer(ngram_range=(1,2), min_df=5).fit(x_cleanNoStopwords)\n",
    "x_cleanNoStopwords = cv.transform(x_cleanNoStopwords)\n",
    "\n",
    "cv = CountVectorizer(ngram_range=(1,2), min_df=5).fit(x_porterStemmer)\n",
    "x_porterStemmer = cv.transform(x_porterStemmer)\n",
    "\n",
    "cv = CountVectorizer(ngram_range=(1,2), min_df=5).fit(x_snowballStemmer)\n",
    "x_snowballStemmer = cv.transform(x_snowballStemmer)\n",
    "\n",
    "cv = CountVectorizer(ngram_range=(1,2), min_df=5).fit(x_lemmatized)\n",
    "x_lemmatized = cv.transform(x_lemmatized)\n",
    "\n",
    "cv = CountVectorizer(ngram_range=(1,2), min_df=5).fit(x_lancaster)\n",
    "x_lancaster = cv.transform(x_lancaster)"
   ]
  },
  {
   "cell_type": "code",
   "execution_count": 12,
   "metadata": {},
   "outputs": [],
   "source": [
    "y = yelp_data_5k[\"rating\"]"
   ]
  },
  {
   "cell_type": "markdown",
   "metadata": {},
   "source": [
    "# Splitting the data for training and testing"
   ]
  },
  {
   "cell_type": "code",
   "execution_count": 13,
   "metadata": {},
   "outputs": [],
   "source": [
    "x_train_cleanWithStopwords, x_test_cleanWithStopwords, y_train, y_test = train_test_split(x_cleanWithStopwords, y, test_size=0.2, random_state=50)\n",
    "\n",
    "x_train_cleanNoStopwords, x_test_cleanNoStopwords, y_train, y_test = train_test_split(x_cleanNoStopwords, y, test_size=0.2, random_state=50)\n",
    "\n",
    "x_train_porterStemmer, x_test_porterStemmer, y_train, y_test = train_test_split(x_porterStemmer, y, test_size=0.2, random_state=50)\n",
    "\n",
    "x_train_snowballStemmer, x_test_snowballStemmer, y_train, y_test = train_test_split(x_snowballStemmer, y, test_size=0.2, random_state=50)\n",
    "\n",
    "x_train_lemmatized, x_test_lemmatized, y_train, y_test = train_test_split(x_lemmatized, y, test_size=0.2, random_state=50)\n",
    "\n",
    "x_train_lancaster, x_test_lancaster, y_train, y_test = train_test_split(x_lancaster, y, test_size=0.2, random_state=50)"
   ]
  },
  {
   "cell_type": "markdown",
   "metadata": {},
   "source": [
    "# Models\n",
    "## Multinomial Naive Bayes"
   ]
  },
  {
   "cell_type": "code",
   "execution_count": 14,
   "metadata": {},
   "outputs": [
    {
     "name": "stdout",
     "output_type": "stream",
     "text": [
      "WITH STOPWORDS\n",
      "Confusion Matrix for Multinomial Naive Bayes:\n",
      "[[435  60]\n",
      " [ 60 373]]\n",
      "Score: 87.07\n",
      "Classification Report:\n",
      "               precision    recall  f1-score   support\n",
      "\n",
      "           0       0.88      0.88      0.88       495\n",
      "           1       0.86      0.86      0.86       433\n",
      "\n",
      "   micro avg       0.87      0.87      0.87       928\n",
      "   macro avg       0.87      0.87      0.87       928\n",
      "weighted avg       0.87      0.87      0.87       928\n",
      "\n",
      "WITHOUT STOPWORDS\n",
      "Confusion Matrix for Multinomial Naive Bayes:\n",
      "[[449  46]\n",
      " [ 58 375]]\n",
      "Score: 88.79\n",
      "Classification Report:\n",
      "               precision    recall  f1-score   support\n",
      "\n",
      "           0       0.89      0.91      0.90       495\n",
      "           1       0.89      0.87      0.88       433\n",
      "\n",
      "   micro avg       0.89      0.89      0.89       928\n",
      "   macro avg       0.89      0.89      0.89       928\n",
      "weighted avg       0.89      0.89      0.89       928\n",
      "\n",
      "PORTERSTEMMER\n",
      "Confusion Matrix for Multinomial Naive Bayes:\n",
      "[[447  48]\n",
      " [ 61 372]]\n",
      "Score: 88.25\n",
      "Classification Report:\n",
      "               precision    recall  f1-score   support\n",
      "\n",
      "           0       0.88      0.90      0.89       495\n",
      "           1       0.89      0.86      0.87       433\n",
      "\n",
      "   micro avg       0.88      0.88      0.88       928\n",
      "   macro avg       0.88      0.88      0.88       928\n",
      "weighted avg       0.88      0.88      0.88       928\n",
      "\n",
      "SNOWBALLSTEMMER\n",
      "Confusion Matrix for Multinomial Naive Bayes:\n",
      "[[447  48]\n",
      " [ 61 372]]\n",
      "Score: 88.25\n",
      "Classification Report:\n",
      "               precision    recall  f1-score   support\n",
      "\n",
      "           0       0.88      0.90      0.89       495\n",
      "           1       0.89      0.86      0.87       433\n",
      "\n",
      "   micro avg       0.88      0.88      0.88       928\n",
      "   macro avg       0.88      0.88      0.88       928\n",
      "weighted avg       0.88      0.88      0.88       928\n",
      "\n",
      "LEMMATIZED\n",
      "Confusion Matrix for Multinomial Naive Bayes:\n",
      "[[445  50]\n",
      " [ 64 369]]\n",
      "Score: 87.72\n",
      "Classification Report:\n",
      "               precision    recall  f1-score   support\n",
      "\n",
      "           0       0.87      0.90      0.89       495\n",
      "           1       0.88      0.85      0.87       433\n",
      "\n",
      "   micro avg       0.88      0.88      0.88       928\n",
      "   macro avg       0.88      0.88      0.88       928\n",
      "weighted avg       0.88      0.88      0.88       928\n",
      "\n",
      "LANCASTER\n",
      "Confusion Matrix for Multinomial Naive Bayes:\n",
      "[[441  54]\n",
      " [ 63 370]]\n",
      "Score: 87.39\n",
      "Classification Report:\n",
      "               precision    recall  f1-score   support\n",
      "\n",
      "           0       0.88      0.89      0.88       495\n",
      "           1       0.87      0.85      0.86       433\n",
      "\n",
      "   micro avg       0.87      0.87      0.87       928\n",
      "   macro avg       0.87      0.87      0.87       928\n",
      "weighted avg       0.87      0.87      0.87       928\n",
      "\n"
     ]
    },
    {
     "data": {
      "image/png": "[encoded data removed]",
      "text/plain": [
       "<Figure size 432x288 with 2 Axes>"
      ]
     },
     "metadata": {
      "needs_background": "light"
     },
     "output_type": "display_data"
    },
    {
     "data": {
      "image/png": "[encoded data removed]",
      "text/plain": [
       "<Figure size 432x288 with 2 Axes>"
      ]
     },
     "metadata": {
      "needs_background": "light"
     },
     "output_type": "display_data"
    },
    {
     "data": {
      "image/png": "[encoded data removed]",
      "text/plain": [
       "<Figure size 432x288 with 2 Axes>"
      ]
     },
     "metadata": {
      "needs_background": "light"
     },
     "output_type": "display_data"
    },
    {
     "data": {
      "image/png": "[encoded data removed]",
      "text/plain": [
       "<Figure size 432x288 with 2 Axes>"
      ]
     },
     "metadata": {
      "needs_background": "light"
     },
     "output_type": "display_data"
    },
    {
     "data": {
      "image/png": "[encoded data removed]",
      "text/plain": [
       "<Figure size 432x288 with 2 Axes>"
      ]
     },
     "metadata": {
      "needs_background": "light"
     },
     "output_type": "display_data"
    },
    {
     "data": {
      "image/png": "[encoded data removed]",
      "text/plain": [
       "<Figure size 432x288 with 2 Axes>"
      ]
     },
     "metadata": {
      "needs_background": "light"
     },
     "output_type": "display_data"
    }
   ],
   "source": [
    "# Multinomial Naive Bayes\n",
    "from sklearn.naive_bayes import MultinomialNB\n",
    "\n",
    "# WITH STOPWORDS #################################################################################################################\n",
    "\n",
    "# initialization\n",
    "mnb = MultinomialNB()\n",
    "mnb.fit(x_train_cleanWithStopwords, y_train)\n",
    "\n",
    "# predicting\n",
    "prediction = mnb.predict(x_test_cleanWithStopwords)\n",
    "\n",
    "# generating and printing confusion matrix\n",
    "print(\"WITH STOPWORDS\")\n",
    "print(\"Confusion Matrix for Multinomial Naive Bayes:\")\n",
    "confusion_mat = confusion_matrix(y_test, prediction)\n",
    "print(confusion_mat)\n",
    "plot = skplt.metrics.plot_confusion_matrix(y_test, prediction, normalize=True)\n",
    "\n",
    "# generating and printing the accuracy score\n",
    "acc_score = round(accuracy_score(y_test,prediction)*100,2)\n",
    "print(\"Score:\", acc_score)\n",
    "\n",
    "# generating, printing and saving to excel format the classification report\n",
    "class_rep = classification_report(y_test,prediction, output_dict=True)\n",
    "df_class_rep = pd.DataFrame(class_rep)\n",
    "df_class_rep.transpose()\n",
    "df_class_rep.to_excel(\"cv_unibigram_mnb_with_stopwords.xlsx\")\n",
    "print(\"Classification Report:\\n\", classification_report(y_test,prediction))\n",
    "\n",
    "\n",
    "# WITHOUT STOPWORDS #################################################################################################################\n",
    "\n",
    "\n",
    "# initialization\n",
    "mnb = MultinomialNB()\n",
    "mnb.fit(x_train_cleanNoStopwords, y_train)\n",
    "\n",
    "# predicting\n",
    "prediction = mnb.predict(x_test_cleanNoStopwords)\n",
    "\n",
    "# generating and printing confusion matrix\n",
    "print(\"WITHOUT STOPWORDS\")\n",
    "print(\"Confusion Matrix for Multinomial Naive Bayes:\")\n",
    "confusion_mat = confusion_matrix(y_test, prediction)\n",
    "print(confusion_mat)\n",
    "plot = skplt.metrics.plot_confusion_matrix(y_test, prediction, normalize=True)\n",
    "\n",
    "# generating and printing the accuracy score\n",
    "acc_score = round(accuracy_score(y_test,prediction)*100,2)\n",
    "print(\"Score:\", acc_score)\n",
    "\n",
    "# generating, printing and saving to excel format the classification report\n",
    "class_rep = classification_report(y_test,prediction, output_dict=True)\n",
    "df_class_rep = pd.DataFrame(class_rep)\n",
    "df_class_rep.transpose()\n",
    "df_class_rep.to_excel(\"cv_unibigram_mnb_no_stopwords.xlsx\")\n",
    "print(\"Classification Report:\\n\", classification_report(y_test,prediction))\n",
    "\n",
    "\n",
    "# PORTERSTEMMER #################################################################################################################\n",
    "\n",
    "\n",
    "# initialization\n",
    "mnb = MultinomialNB()\n",
    "mnb.fit(x_train_porterStemmer, y_train)\n",
    "\n",
    "# predicting\n",
    "prediction = mnb.predict(x_test_porterStemmer)\n",
    "\n",
    "# generating and printing confusion matrix\n",
    "print(\"PORTERSTEMMER\")\n",
    "print(\"Confusion Matrix for Multinomial Naive Bayes:\")\n",
    "confusion_mat = confusion_matrix(y_test, prediction)\n",
    "print(confusion_mat)\n",
    "plot = skplt.metrics.plot_confusion_matrix(y_test, prediction, normalize=True)\n",
    "\n",
    "# generating and printing the accuracy score\n",
    "acc_score = round(accuracy_score(y_test,prediction)*100,2)\n",
    "print(\"Score:\", acc_score)\n",
    "\n",
    "# generating, printing and saving to excel format the classification report\n",
    "class_rep = classification_report(y_test,prediction, output_dict=True)\n",
    "df_class_rep = pd.DataFrame(class_rep)\n",
    "df_class_rep.transpose()\n",
    "df_class_rep.to_excel(\"cv_unibigram_mnb_porterstemmer.xlsx\")\n",
    "print(\"Classification Report:\\n\", classification_report(y_test,prediction))\n",
    "\n",
    "\n",
    "# SNOWBALLSTEMMER #################################################################################################################\n",
    "\n",
    "\n",
    "# initialization\n",
    "mnb = MultinomialNB()\n",
    "mnb.fit(x_train_snowballStemmer, y_train)\n",
    "\n",
    "# predicting\n",
    "prediction = mnb.predict(x_test_snowballStemmer)\n",
    "\n",
    "# generating and printing confusion matrix\n",
    "print(\"SNOWBALLSTEMMER\")\n",
    "print(\"Confusion Matrix for Multinomial Naive Bayes:\")\n",
    "confusion_mat = confusion_matrix(y_test, prediction)\n",
    "print(confusion_mat)\n",
    "plot = skplt.metrics.plot_confusion_matrix(y_test, prediction, normalize=True)\n",
    "\n",
    "# generating and printing the accuracy score\n",
    "acc_score = round(accuracy_score(y_test,prediction)*100,2)\n",
    "print(\"Score:\", acc_score)\n",
    "\n",
    "# generating, printing and saving to excel format the classification report\n",
    "class_rep = classification_report(y_test,prediction, output_dict=True)\n",
    "df_class_rep = pd.DataFrame(class_rep)\n",
    "df_class_rep.transpose()\n",
    "df_class_rep.to_excel(\"cv_unibigram_mnb_snowballstemmer.xlsx\")\n",
    "print(\"Classification Report:\\n\", classification_report(y_test,prediction))\n",
    "\n",
    "\n",
    "# LEMMATIZED #################################################################################################################\n",
    "\n",
    "\n",
    "# initialization\n",
    "mnb = MultinomialNB()\n",
    "mnb.fit(x_train_lemmatized, y_train)\n",
    "\n",
    "# predicting\n",
    "prediction = mnb.predict(x_test_lemmatized)\n",
    "\n",
    "# generating and printing confusion matrix\n",
    "print(\"LEMMATIZED\")\n",
    "print(\"Confusion Matrix for Multinomial Naive Bayes:\")\n",
    "confusion_mat = confusion_matrix(y_test, prediction)\n",
    "print(confusion_mat)\n",
    "plot = skplt.metrics.plot_confusion_matrix(y_test, prediction, normalize=True)\n",
    "\n",
    "# generating and printing the accuracy score\n",
    "acc_score = round(accuracy_score(y_test,prediction)*100,2)\n",
    "print(\"Score:\", acc_score)\n",
    "\n",
    "# generating, printing and saving to excel format the classification report\n",
    "class_rep = classification_report(y_test,prediction, output_dict=True)\n",
    "df_class_rep = pd.DataFrame(class_rep)\n",
    "df_class_rep.transpose()\n",
    "df_class_rep.to_excel(\"cv_unibigram_mnb_lemmatized.xlsx\")\n",
    "print(\"Classification Report:\\n\", classification_report(y_test,prediction))\n",
    "\n",
    "\n",
    "# LANCASTER #################################################################################################################\n",
    "\n",
    "\n",
    "# initialization\n",
    "mnb = MultinomialNB()\n",
    "mnb.fit(x_train_lancaster, y_train)\n",
    "\n",
    "# predicting\n",
    "prediction = mnb.predict(x_test_lancaster)\n",
    "\n",
    "# generating and printing confusion matrix\n",
    "print(\"LANCASTER\")\n",
    "print(\"Confusion Matrix for Multinomial Naive Bayes:\")\n",
    "confusion_mat = confusion_matrix(y_test, prediction)\n",
    "print(confusion_mat)\n",
    "plot = skplt.metrics.plot_confusion_matrix(y_test, prediction, normalize=True)\n",
    "\n",
    "# generating and printing the accuracy score\n",
    "acc_score = round(accuracy_score(y_test,prediction)*100,2)\n",
    "print(\"Score:\", acc_score)\n",
    "\n",
    "# generating, printing and saving to excel format the classification report\n",
    "class_rep = classification_report(y_test,prediction, output_dict=True)\n",
    "df_class_rep = pd.DataFrame(class_rep)\n",
    "df_class_rep.transpose()\n",
    "df_class_rep.to_excel(\"cv_unibigram_mnb_lancaster.xlsx\")\n",
    "print(\"Classification Report:\\n\", classification_report(y_test,prediction))"
   ]
  },
  {
   "cell_type": "code",
   "execution_count": null,
   "metadata": {},
   "outputs": [],
   "source": []
  }
 ],
 "metadata": {
  "kernelspec": {
   "display_name": "Python 3",
   "language": "python",
   "name": "python3"
  },
  "language_info": {
   "codemirror_mode": {
    "name": "ipython",
    "version": 3
   },
   "file_extension": ".py",
   "mimetype": "text/x-python",
   "name": "python",
   "nbconvert_exporter": "python",
   "pygments_lexer": "ipython3",
   "version": "3.7.3"
  }
 },
 "nbformat": 4,
 "nbformat_minor": 2
}
